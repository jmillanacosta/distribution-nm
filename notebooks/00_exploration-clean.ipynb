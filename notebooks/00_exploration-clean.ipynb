{
 "cells": [
  {
   "cell_type": "code",
   "execution_count": 1,
   "metadata": {},
   "outputs": [],
   "source": [
    "from scripts.excel_imports import append_sheets_with_organ_column\n",
    "from scripts.get_full_text_epmc import id_convert, get_identifier_type\n",
    "import csv\n",
    "import re\n",
    "import numpy as np"
   ]
  },
  {
   "attachments": {},
   "cell_type": "markdown",
   "metadata": {},
   "source": [
    "# Exploration\n",
    "\n",
    "This notebook explores the content of the supplementary materials to [Nanoparticle biodistribution coefficients: A quantitative approach for understanding the tissue distribution of nanoparticles](https://doi.org/10.1016/j.addr.2023.114708).\n",
    "\n",
    "\n",
    "## Downloading the data\n",
    "\n",
    "The data is available as a supplementary material from the article text: https://ars.els-cdn.com/content/image/1-s2.0-S0169409X23000236-mmc1.xlsx"
   ]
  },
  {
   "cell_type": "code",
   "execution_count": 2,
   "metadata": {},
   "outputs": [
    {
     "name": "stdout",
     "output_type": "stream",
     "text": [
      "Data (../data/perc_id_g_organ.xlsx) already exists\n"
     ]
    }
   ],
   "source": [
    "%%bash\n",
    "\n",
    "if [ ! -f \"../data/perc_id_g_organ.xlsx\" ]; then\n",
    "  curl https://ars.els-cdn.com/content/image/1-s2.0-S0169409X23000236-mmc1.xlsx --output ../data/perc_id_g_organ.xlsx\n",
    "    echo \"xlsx data successfully downloaded and saved to ../data/perc_id_g_organ.xlsx.\"\n",
    "    else\n",
    "        echo \"Data (../data/perc_id_g_organ.xlsx) already exists\"\n",
    "fi\n"
   ]
  },
  {
   "cell_type": "code",
   "execution_count": 3,
   "metadata": {},
   "outputs": [
    {
     "name": "stdout",
     "output_type": "stream",
     "text": [
      "Column 'ID': 0 NaN values; datatype: int64\n",
      "Column 'Time_h': 0 NaN values; datatype: float64\n",
      "Column 'perc_ID_g': 17 NaN values; datatype: float64\n",
      "Column 'Species': 0 NaN values; datatype: object\n",
      "Column 'Age/weight': 994 NaN values; datatype: float64\n",
      "Column 'Strain': 0 NaN values; datatype: object\n",
      "Column 'Organ': 0 NaN values; datatype: object\n",
      "Column 'Size_nm': 12 NaN values; datatype: float64\n",
      "Column 'Analysis method': 0 NaN values; datatype: object\n",
      "Column 'NP_Type': 0 NaN values; datatype: object\n",
      "Column 'NP_Shape': 0 NaN values; datatype: object\n",
      "Column 'Ligand': 360 NaN values; datatype: object\n",
      "Column 'Charge': 2576 NaN values; datatype: object\n",
      "Column 'PEG cover': 56 NaN values; datatype: object\n",
      "Column 'PMID': 0 NaN values; datatype: object\n",
      "Column 'Name': 3720 NaN values; datatype: object\n",
      "Column 'Charge ': 5651 NaN values; datatype: object\n",
      "Number of rows with at least one NaN value: 5703/5703\n",
      "Organs: Muscle, Brain, Tail, Stomach, Liver, Spleen, Heart, Blood, Kidney, Intestine, Lung, Plasma, Pancreas, Skin, Tumor, Bone\n"
     ]
    },
    {
     "data": {
      "text/html": [
       "<div>\n",
       "<style scoped>\n",
       "    .dataframe tbody tr th:only-of-type {\n",
       "        vertical-align: middle;\n",
       "    }\n",
       "\n",
       "    .dataframe tbody tr th {\n",
       "        vertical-align: top;\n",
       "    }\n",
       "\n",
       "    .dataframe thead th {\n",
       "        text-align: right;\n",
       "    }\n",
       "</style>\n",
       "<table border=\"1\" class=\"dataframe\">\n",
       "  <thead>\n",
       "    <tr style=\"text-align: right;\">\n",
       "      <th></th>\n",
       "      <th>Species</th>\n",
       "      <th>Strain</th>\n",
       "      <th>Organ</th>\n",
       "      <th>Analysis method</th>\n",
       "      <th>NP_Type</th>\n",
       "      <th>NP_Shape</th>\n",
       "      <th>Ligand</th>\n",
       "      <th>Charge</th>\n",
       "      <th>PEG cover</th>\n",
       "      <th>PMID</th>\n",
       "      <th>Name</th>\n",
       "      <th>Charge</th>\n",
       "    </tr>\n",
       "  </thead>\n",
       "  <tbody>\n",
       "    <tr>\n",
       "      <th>count</th>\n",
       "      <td>5703</td>\n",
       "      <td>5703</td>\n",
       "      <td>5703</td>\n",
       "      <td>5703</td>\n",
       "      <td>5703</td>\n",
       "      <td>5703</td>\n",
       "      <td>5343</td>\n",
       "      <td>3127</td>\n",
       "      <td>5647</td>\n",
       "      <td>5703</td>\n",
       "      <td>1983</td>\n",
       "      <td>52</td>\n",
       "    </tr>\n",
       "    <tr>\n",
       "      <th>unique</th>\n",
       "      <td>1</td>\n",
       "      <td>17</td>\n",
       "      <td>16</td>\n",
       "      <td>29</td>\n",
       "      <td>9</td>\n",
       "      <td>18</td>\n",
       "      <td>44</td>\n",
       "      <td>9</td>\n",
       "      <td>24</td>\n",
       "      <td>116</td>\n",
       "      <td>235</td>\n",
       "      <td>4</td>\n",
       "    </tr>\n",
       "    <tr>\n",
       "      <th>top</th>\n",
       "      <td>Mouse</td>\n",
       "      <td>Balb/c mice</td>\n",
       "      <td>Blood</td>\n",
       "      <td>PET</td>\n",
       "      <td>Gold</td>\n",
       "      <td>Nanoparticle</td>\n",
       "      <td>No</td>\n",
       "      <td>Neutral</td>\n",
       "      <td>5000</td>\n",
       "      <td>17962085</td>\n",
       "      <td>SPIO</td>\n",
       "      <td>Neutral</td>\n",
       "    </tr>\n",
       "    <tr>\n",
       "      <th>freq</th>\n",
       "      <td>5703</td>\n",
       "      <td>2357</td>\n",
       "      <td>809</td>\n",
       "      <td>962</td>\n",
       "      <td>1986</td>\n",
       "      <td>4194</td>\n",
       "      <td>3095</td>\n",
       "      <td>1731</td>\n",
       "      <td>2234</td>\n",
       "      <td>220</td>\n",
       "      <td>36</td>\n",
       "      <td>28</td>\n",
       "    </tr>\n",
       "  </tbody>\n",
       "</table>\n",
       "</div>"
      ],
      "text/plain": [
       "       Species       Strain  Organ Analysis method NP_Type      NP_Shape  \\\n",
       "count     5703         5703   5703            5703    5703          5703   \n",
       "unique       1           17     16              29       9            18   \n",
       "top      Mouse  Balb/c mice  Blood             PET    Gold  Nanoparticle   \n",
       "freq      5703         2357    809             962    1986          4194   \n",
       "\n",
       "       Ligand   Charge  PEG cover      PMID  Name  Charge   \n",
       "count    5343     3127       5647      5703  1983       52  \n",
       "unique     44        9         24       116   235        4  \n",
       "top        No  Neutral       5000  17962085  SPIO  Neutral  \n",
       "freq     3095     1731       2234       220    36       28  "
      ]
     },
     "execution_count": 3,
     "metadata": {},
     "output_type": "execute_result"
    }
   ],
   "source": [
    "file_path = '../data/perc_id_g_organ.xlsx'\n",
    "df = append_sheets_with_organ_column(file_path)\n",
    "df.describe(include='object')\n"
   ]
  },
  {
   "attachments": {},
   "cell_type": "markdown",
   "metadata": {},
   "source": [
    "The provided 'pmids' (d'f['PMID']) are not only PMIDs. Also, to request full text from ePMC, we need the PMC identifier (if it exists)"
   ]
  },
  {
   "cell_type": "code",
   "execution_count": 4,
   "metadata": {},
   "outputs": [],
   "source": [
    "df.rename(columns={'PMID': 'provided_identifier'}, inplace=True)\n",
    "df['provided_identifier_type'] = df['provided_identifier'].apply(get_identifier_type)"
   ]
  },
  {
   "cell_type": "code",
   "execution_count": 5,
   "metadata": {},
   "outputs": [],
   "source": [
    "seen = []\n",
    "for index, row in df.iterrows():\n",
    "    id = row['provided_identifier']\n",
    "    if id not in seen:\n",
    "        seen.append(id)\n",
    "        converted = id_convert(id)\n",
    "        if converted != False:\n",
    "            pmcid = converted[0]\n",
    "            doi = converted[1]\n",
    "            df.at[index, 'pmcid'] = pmcid\n",
    "            df.at[index, 'doi'] = doi\n"
   ]
  },
  {
   "attachments": {},
   "cell_type": "markdown",
   "metadata": {},
   "source": [
    "## Mappings\n",
    "Retrieving the list of terms to map:\n",
    "\n",
    "(TODO)"
   ]
  },
  {
   "cell_type": "code",
   "execution_count": 7,
   "metadata": {},
   "outputs": [
    {
     "name": "stdout",
     "output_type": "stream",
     "text": [
      "Total terms to map: 550\n"
     ]
    }
   ],
   "source": [
    "\n",
    "columns_to_exclude = ['index', 'perc_ID_g', 'ID', 'Time_h', 'Age/weight', 'Size_nm', 'PMID', 'doi', 'url', 'pmcid']\n",
    "\n",
    "file_path = \"../data/mappings.csv\"\n",
    "column_names = ['column', 'term', 'mapping']\n",
    "\n",
    "with open(file_path, \"w\", newline='') as file:\n",
    "    writer = csv.writer(file)\n",
    "    writer.writerow(column_names)\n",
    "    for column in df.columns:\n",
    "        writer.writerow([\"\", column, \"\"])\n",
    "    total = len(list(df.columns))\n",
    "    for column in df.columns:\n",
    "        if column not in columns_to_exclude:\n",
    "            unique_terms = df[column].unique()\n",
    "            for term in unique_terms:\n",
    "                total +=1\n",
    "                writer.writerow([column, term, \"\"])\n",
    "print(f\"Total terms to map: {total}\")"
   ]
  },
  {
   "cell_type": "code",
   "execution_count": 8,
   "metadata": {},
   "outputs": [],
   "source": [
    "df.to_csv(\"../data/perc_id_g.csv\", index=False)"
   ]
  },
  {
   "attachments": {},
   "cell_type": "markdown",
   "metadata": {},
   "source": [
    "[01_text_processing.ipynb](01_text_processing.ipynb) uses OpenAI models to try to retrieve more information for those articles with available (abstracts? full texts?)"
   ]
  }
 ],
 "metadata": {
  "kernelspec": {
   "display_name": "base",
   "language": "python",
   "name": "python3"
  },
  "language_info": {
   "codemirror_mode": {
    "name": "ipython",
    "version": 3
   },
   "file_extension": ".py",
   "mimetype": "text/x-python",
   "name": "python",
   "nbconvert_exporter": "python",
   "pygments_lexer": "ipython3",
   "version": "3.9.13"
  },
  "orig_nbformat": 4
 },
 "nbformat": 4,
 "nbformat_minor": 2
}
