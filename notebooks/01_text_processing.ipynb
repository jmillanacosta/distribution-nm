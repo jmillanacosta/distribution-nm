{
 "cells": [
  {
   "cell_type": "code",
   "execution_count": 1,
   "metadata": {},
   "outputs": [],
   "source": [
    "import openai\n",
    "import os\n",
    "from scripts.get_abstract_epmc import get_abstract\n",
    "import pandas as pd\n",
    "import numpy as np\n",
    "import re\n",
    "import json"
   ]
  },
  {
   "attachments": {},
   "cell_type": "markdown",
   "metadata": {},
   "source": [
    "## What essential data is missing?\n",
    "\n",
    "Which is the data that went unreported in the table? How to retrieve it? (how did they introduce the NM in the organism, bioassay parameters, type of size measurement and other descriptors, etc). For named nanomaterials, retrieve their descriptors if made available elsewhere.\n",
    "\n",
    "Also missing: more data about the studies, metadata (journal, etc)"
   ]
  },
  {
   "cell_type": "code",
   "execution_count": 3,
   "metadata": {},
   "outputs": [],
   "source": [
    "df = pd.read_csv(\"../data/perc_id_g.csv\")"
   ]
  },
  {
   "attachments": {},
   "cell_type": "markdown",
   "metadata": {},
   "source": [
    "## Get abstracts\n",
    "\n"
   ]
  },
  {
   "cell_type": "code",
   "execution_count": 4,
   "metadata": {},
   "outputs": [
    {
     "name": "stdout",
     "output_type": "stream",
     "text": [
      "Not available: ('abstractText') for PMC4127427\n",
      "55 abstracts retrieved out of 116 different journal articles\n"
     ]
    }
   ],
   "source": [
    "seen = []\n",
    "count = 0\n",
    "total = len(np.unique(df['provided_identifier']))\n",
    "for index, row in df.iterrows():\n",
    "    if pd.notnull(row['pmcid']):     \n",
    "        pmcid = row['pmcid']\n",
    "        if pmcid not in seen:\n",
    "            seen.append(pmcid)\n",
    "            text = get_abstract(pmcid)\n",
    "            if text != \"\":\n",
    "                df.at[index, 'abstract'] = text\n",
    "                count += 1\n",
    "print(f'{count} abstracts retrieved out of {total} different journal articles')\n"
   ]
  },
  {
   "cell_type": "code",
   "execution_count": 5,
   "metadata": {},
   "outputs": [],
   "source": [
    "with open('resources/openAI_key.txt', 'r') as f:\n",
    "    api_key = f.read().strip()\n",
    "os.environ['OPENAI_API_KEY'] = api_key\n",
    "openai.api_key = os.getenv(\"OPENAI_API_KEY\")\n",
    "\n",
    "# Construct prompt\n",
    "\n",
    "prompt = \"\"\"Scan the following abstract describing the use of animal models to investigate nanomaterial or nanoparticle biodistribution in organs: \\n{} \\n\\nAnswer the questions:\n",
    "- Which nanomaterial is assessed?\n",
    "- Experimental conditions?\n",
    "Return answer as a list\n",
    "\"\"\"\n"
   ]
  },
  {
   "cell_type": "code",
   "execution_count": 6,
   "metadata": {},
   "outputs": [],
   "source": [
    "text_test = df.iloc[330]['abstract']\n",
    "# models\n",
    "EMBEDDING_MODEL = \"text-embedding-ada-002\"\n",
    "GPT_MODEL = \"gpt-3.5-turbo\"\n"
   ]
  },
  {
   "attachments": {},
   "cell_type": "markdown",
   "metadata": {},
   "source": [
    "# Test 1:\n",
    "\n",
    "A systematic study of in vitro and in vivo behavior of biodegradable mesoporous silica nanoparticles (bMSNs), designed to carry multiple cargos (both small and macromolecular drugs) and subsequently self-destruct following release of their payloads, is presented. Complete degradation of bMSNs is seen within 21 d of incubation in simulated body fluid. The as-synthesized bMSNs are intrinsically radiolabeled with oxophilic zirconium-89 (<sup>89</sup>Zr, <i>t</i><sub>1/2</sub> = 78.4 h) radionuclide to track their in vivo pharmacokinetics via positron emission tomography imaging. Rapid and persistent CD105 specific tumor vasculature targeting is successfully demonstrated in murine model of metastatic breast cancer by using TRC105 (an anti-CD105 antibody)-conjugated bMSNs. This study serves to illustrate a simple, versatile, and readily tunable approach to potentially overcome the current challenges facing nanomedicine and further the goals of personalized nanotheranostics."
   ]
  },
  {
   "cell_type": "code",
   "execution_count": 7,
   "metadata": {},
   "outputs": [
    {
     "name": "stdout",
     "output_type": "stream",
     "text": [
      "assessed nanomaterial: biodegradable mesoporous silica nanoparticles (bMSNs)\n",
      "\n",
      "commercial or synthesized: synthesized\n",
      "\n",
      "labelling used for the in vivo assay: oxophilic zirconium-89 (<sup>89</sup>Zr)\n",
      "\n",
      "instrumental equipment used for measurements for the in vivo assay: positron emission tomography (PET) imaging\n",
      "\n",
      "animal model used: murine model of metastatic breast cancer\n",
      "\n",
      "route of administration of nanomaterial: not specified\n",
      "\n",
      "age/sex of the animal model: not specified\n",
      "\n",
      "fate of the nanomaterial observed: complete degradation of bMSNs within 21 days of incubation in simulated body fluid, rapid and persistent CD105 specific tumor vasculature targeting successfully demonstrated in the murine model of metastatic breast cancer.\n"
     ]
    }
   ],
   "source": [
    "query = \"\"\"Scan the following scientific article abstract describing the use of animal models to investigate nanomaterial or nanoparticle biodistribution in organs to fill up the following key-value pairs.\n",
    "\n",
    "Abstract:\n",
    "\\\"\\\"\\\"\n",
    "{}\n",
    "\\\"\\\"\\\"\n",
    "\n",
    "Key-value pairs:\n",
    "\n",
    "assessed nanomaterial:\n",
    "commercial or synthesized:\n",
    "labelling used for the in vivo assay:\n",
    "instrumental equipment used for measurements for the in vivo assay:\n",
    "animal model used: \n",
    "route of administration of nanomaterial:\n",
    "age/sex of the animal model:\n",
    "fate of the nanomaterial observed:\n",
    "\"\"\"\n",
    "\n",
    "\n",
    "def question_answer(query, abstract, model, temperature):\n",
    "    response = openai.ChatCompletion.create(\n",
    "        messages=[\n",
    "        {'role': 'system', 'content': 'You answer questions about the abstract of a journal article.'},\n",
    "        {'role': 'user', 'content': query},\n",
    "        ],\n",
    "        model=model,\n",
    "        temperature=temperature,\n",
    "    )\n",
    "\n",
    "    response_text = response['choices'][0]['message']['content']\n",
    "    dictionary = {}\n",
    "\n",
    "    # Split the string by lines\n",
    "    lines = response_text.strip().split(\"\\n\")\n",
    "\n",
    "    # Iterate over each line\n",
    "    for line in lines:\n",
    "        if \":\" in line:\n",
    "            key, value = line.strip().split(\": \")\n",
    "            dictionary['values'][key] = value\n",
    "    dictionary['response'] = response\n",
    "    return dictionary\n",
    "\n",
    "test = question_answer(query, text_test, model=GPT_MODEL, temperature=0)['values']\n",
    "print(json.dumps(test, indent = 4))"
   ]
  },
  {
   "cell_type": "code",
   "execution_count": 11,
   "metadata": {},
   "outputs": [
    {
     "name": "stdout",
     "output_type": "stream",
     "text": [
      "{'assessed nanomaterial': 'biodegradable mesoporous silica nanoparticles (bMSNs)', 'commercial or synthesized': 'synthesized', 'labelling used for the in vivo assay': 'oxophilic zirconium-89 (<sup>89</sup>Zr)', 'instrumental equipment used for measurements for the in vivo assay': 'positron emission tomography (PET) imaging', 'animal model used': 'murine model of metastatic breast cancer', 'route of administration of nanomaterial': 'not specified', 'age/sex of the animal model': 'not specified', 'fate of the nanomaterial observed': 'complete degradation of bMSNs within 21 days of incubation in simulated body fluid, rapid and persistent CD105 specific tumor vasculature targeting successfully demonstrated in the murine model of metastatic breast cancer.'}\n"
     ]
    }
   ],
   "source": [
    "seen = []\n",
    "count = 0\n",
    "total = len(np.unique(df['abstract']))\n",
    "for index, row in df.iterrows():\n",
    "    if pd.notnull(row['abstract']):     \n",
    "        abstract = row['abstract']\n",
    "        pmcid = row['pmcid']\n",
    "        if pmcid not in seen:\n",
    "            seen.append(pmcid)\n",
    "            condition = df['pmcid'] == pmcid\n",
    "            question_answer = question_answer(query, abstract, GPT_MODEL, 0)['values']\n",
    "            df.loc[condition, 'nm_llm'] = question_answer['assessed nanomaterial']\n",
    "            df.loc[condition, 'commercial_synthesized_llm'] = question_answer['commercial or synthesized']\n",
    "            df.loc[condition, 'model_llm'] = question_answer['animal model used']\n",
    "            df.loc[condition, 'route_admin_llm'] = question_answer['route of administration of nanomaterial']\n",
    "            \n"
   ]
  },
  {
   "attachments": {},
   "cell_type": "markdown",
   "metadata": {},
   "source": [
    "Now for all abstracts"
   ]
  },
  {
   "cell_type": "code",
   "execution_count": null,
   "metadata": {},
   "outputs": [],
   "source": []
  }
 ],
 "metadata": {
  "kernelspec": {
   "display_name": "base",
   "language": "python",
   "name": "python3"
  },
  "language_info": {
   "codemirror_mode": {
    "name": "ipython",
    "version": 3
   },
   "file_extension": ".py",
   "mimetype": "text/x-python",
   "name": "python",
   "nbconvert_exporter": "python",
   "pygments_lexer": "ipython3",
   "version": "3.9.13"
  },
  "orig_nbformat": 4
 },
 "nbformat": 4,
 "nbformat_minor": 2
}
