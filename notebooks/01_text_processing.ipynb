{
 "cells": [
  {
   "cell_type": "code",
   "execution_count": 2,
   "metadata": {},
   "outputs": [],
   "source": [
    "import openai\n",
    "import os\n",
    "from scripts.get_abstract_epmc import get_abstract\n",
    "import pandas as pd\n",
    "import numpy as np\n",
    "import re\n",
    "import json"
   ]
  },
  {
   "attachments": {},
   "cell_type": "markdown",
   "metadata": {},
   "source": [
    "## What essential data is missing?\n",
    "\n",
    "Which is the data that went unreported in the table? How to retrieve it? (how did they introduce the NM in the organism, bioassay parameters, type of size measurement and other descriptors, etc). For named nanomaterials, retrieve their descriptors if made available elsewhere.\n",
    "\n",
    "Also missing: more data about the studies, metadata (journal, etc)"
   ]
  },
  {
   "cell_type": "code",
   "execution_count": 3,
   "metadata": {},
   "outputs": [],
   "source": [
    "df = pd.read_csv(\"../data/perc_id_g.csv\")"
   ]
  },
  {
   "attachments": {},
   "cell_type": "markdown",
   "metadata": {},
   "source": [
    "## Get abstracts\n",
    "\n"
   ]
  },
  {
   "cell_type": "code",
   "execution_count": 4,
   "metadata": {},
   "outputs": [
    {
     "name": "stdout",
     "output_type": "stream",
     "text": [
      "Not available: ('abstractText') for PMC4127427\n",
      "55 abstracts retrieved out of 116 different journal articles\n"
     ]
    }
   ],
   "source": [
    "seen = []\n",
    "count = 0\n",
    "total = len(np.unique(df['provided_identifier']))\n",
    "for index, row in df.iterrows():\n",
    "    if pd.notnull(row['pmcid']):     \n",
    "        pmcid = row['pmcid']\n",
    "        if pmcid not in seen:\n",
    "            seen.append(pmcid)\n",
    "            text = get_abstract(pmcid)\n",
    "            if text != \"\":\n",
    "                df.at[index, 'abstract'] = text\n",
    "                count += 1\n",
    "print(f'{count} abstracts retrieved out of {total} different journal articles')\n"
   ]
  },
  {
   "cell_type": "code",
   "execution_count": 5,
   "metadata": {},
   "outputs": [],
   "source": [
    "with open('resources/openAI_key.txt', 'r') as f:\n",
    "    api_key = f.read().strip()\n",
    "os.environ['OPENAI_API_KEY'] = api_key\n",
    "openai.api_key = os.getenv(\"OPENAI_API_KEY\")\n",
    "\n",
    "# Construct prompt\n",
    "\n",
    "prompt = \"\"\"Scan the following abstract describing the use of animal models to investigate nanomaterial or nanoparticle biodistribution in organs: \\n{} \\n\\nAnswer the questions:\n",
    "- Which nanomaterial is assessed?\n",
    "- Experimental conditions?\n",
    "Return answer as a list\n",
    "\"\"\"\n"
   ]
  },
  {
   "cell_type": "code",
   "execution_count": 10,
   "metadata": {},
   "outputs": [
    {
     "data": {
      "text/plain": [
       "'A systematic study of in vitro and in vivo behavior of biodegradable mesoporous silica nanoparticles (bMSNs), designed to carry multiple cargos (both small and macromolecular drugs) and subsequently self-destruct following release of their payloads, is presented. Complete degradation of bMSNs is seen within 21 d of incubation in simulated body fluid. The as-synthesized bMSNs are intrinsically radiolabeled with oxophilic zirconium-89 (<sup>89</sup>Zr, <i>t</i><sub>1/2</sub> = 78.4 h) radionuclide to track their in vivo pharmacokinetics via positron emission tomography imaging. Rapid and persistent CD105 specific tumor vasculature targeting is successfully demonstrated in murine model of metastatic breast cancer by using TRC105 (an anti-CD105 antibody)-conjugated bMSNs. This study serves to illustrate a simple, versatile, and readily tunable approach to potentially overcome the current challenges facing nanomedicine and further the goals of personalized nanotheranostics.'"
      ]
     },
     "execution_count": 10,
     "metadata": {},
     "output_type": "execute_result"
    }
   ],
   "source": [
    "text_test = df.iloc[330]['abstract']\n",
    "# models\n",
    "EMBEDDING_MODEL = \"text-embedding-ada-002\"\n",
    "GPT_MODEL = \"gpt-3.5-turbo\"\n",
    "text_test\n"
   ]
  },
  {
   "attachments": {},
   "cell_type": "markdown",
   "metadata": {},
   "source": [
    "# Test 1:\n",
    "\n",
    "A systematic study of in vitro and in vivo behavior of biodegradable mesoporous silica nanoparticles (bMSNs), designed to carry multiple cargos (both small and macromolecular drugs) and subsequently self-destruct following release of their payloads, is presented. Complete degradation of bMSNs is seen within 21 d of incubation in simulated body fluid. The as-synthesized bMSNs are intrinsically radiolabeled with oxophilic zirconium-89 (<sup>89</sup>Zr, <i>t</i><sub>1/2</sub> = 78.4 h) radionuclide to track their in vivo pharmacokinetics via positron emission tomography imaging. Rapid and persistent CD105 specific tumor vasculature targeting is successfully demonstrated in murine model of metastatic breast cancer by using TRC105 (an anti-CD105 antibody)-conjugated bMSNs. This study serves to illustrate a simple, versatile, and readily tunable approach to potentially overcome the current challenges facing nanomedicine and further the goals of personalized nanotheranostics."
   ]
  },
  {
   "cell_type": "code",
   "execution_count": 18,
   "metadata": {},
   "outputs": [
    {
     "name": "stdout",
     "output_type": "stream",
     "text": [
      "{\n",
      "    \"values\": {\n",
      "        \"assessed nanomaterial\": \"biodegradable mesoporous silica nanoparticles (bMSNs)\",\n",
      "        \"commercial or synthesized\": \"synthesized\",\n",
      "        \"labelling used for the in vivo assay\": \"oxophilic zirconium-89 (<sup>89</sup>Zr)\",\n",
      "        \"instrumental equipment used for measurements for the in vivo assay\": \"positron emission tomography (PET) imaging\",\n",
      "        \"animal model used\": \"murine model of metastatic breast cancer\",\n",
      "        \"route of administration of nanomaterial\": \"not specified\",\n",
      "        \"age/sex of the animal model\": \"not specified\",\n",
      "        \"fate of the nanomaterial observed\": \"rapid and persistent CD105 specific tumor vasculature targeting demonstrated in the animal model of metastatic breast cancer. Complete degradation of bMSNs seen within 21 d of incubation in simulated body fluid.\"\n",
      "    },\n",
      "    \"response\": {\n",
      "        \"id\": \"chatcmpl-7OjQ96GGxXmFrQ4iE7CmQNrxQJCmF\",\n",
      "        \"object\": \"chat.completion\",\n",
      "        \"created\": 1686128825,\n",
      "        \"model\": \"gpt-3.5-turbo-0301\",\n",
      "        \"usage\": {\n",
      "            \"prompt_tokens\": 352,\n",
      "            \"completion_tokens\": 158,\n",
      "            \"total_tokens\": 510\n",
      "        },\n",
      "        \"choices\": [\n",
      "            {\n",
      "                \"message\": {\n",
      "                    \"role\": \"assistant\",\n",
      "                    \"content\": \"assessed nanomaterial: biodegradable mesoporous silica nanoparticles (bMSNs)\\n\\ncommercial or synthesized: synthesized\\n\\nlabelling used for the in vivo assay: oxophilic zirconium-89 (<sup>89</sup>Zr)\\n\\ninstrumental equipment used for measurements for the in vivo assay: positron emission tomography (PET) imaging\\n\\nanimal model used: murine model of metastatic breast cancer\\n\\nroute of administration of nanomaterial: not specified\\n\\nage/sex of the animal model: not specified\\n\\nfate of the nanomaterial observed: rapid and persistent CD105 specific tumor vasculature targeting demonstrated in the animal model of metastatic breast cancer. Complete degradation of bMSNs seen within 21 d of incubation in simulated body fluid.\"\n",
      "                },\n",
      "                \"finish_reason\": \"stop\",\n",
      "                \"index\": 0\n",
      "            }\n",
      "        ]\n",
      "    }\n",
      "}\n"
     ]
    }
   ],
   "source": [
    "query = \"\"\"Scan the following scientific article abstract describing the use of animal models to investigate nanomaterial or nanoparticle biodistribution in organs to fill up the following key-value pairs.\n",
    "\n",
    "Abstract:\n",
    "\\\"\\\"\\\"\n",
    "{}\n",
    "\\\"\\\"\\\"\n",
    "\n",
    "Key-value pairs:\n",
    "\n",
    "assessed nanomaterial:\n",
    "commercial or synthesized:\n",
    "labelling used for the in vivo assay:\n",
    "instrumental equipment used for measurements for the in vivo assay:\n",
    "animal model used: \n",
    "route of administration of nanomaterial:\n",
    "age/sex of the animal model:\n",
    "fate of the nanomaterial observed:\n",
    "\"\"\"\n",
    "\n",
    "\n",
    "def question_answer(query, abstract, model, temperature):\n",
    "    query = query.format(abstract)\n",
    "    response = openai.ChatCompletion.create(\n",
    "        messages=[\n",
    "        {'role': 'system', 'content': 'You answer questions about the abstract of a journal article.'},\n",
    "        {'role': 'user', 'content': query},\n",
    "        ],\n",
    "        model=model,\n",
    "        temperature=temperature,\n",
    "    )\n",
    "\n",
    "    response_text = response['choices'][0]['message']['content']\n",
    "    dictionary = {'values':{}, 'response':'',}\n",
    "\n",
    "    # Split the string by lines\n",
    "    lines = response_text.strip().split(\"\\n\")\n",
    "\n",
    "    # Iterate over each line\n",
    "    for line in lines:\n",
    "        if \":\" in line:\n",
    "            key, value = line.strip().split(\": \")\n",
    "            dictionary['values'][key] = value\n",
    "    dictionary['response'] = response\n",
    "    return dictionary\n",
    "\n",
    "test = question_answer(query, text_test, model=GPT_MODEL, temperature=0)\n",
    "print(json.dumps(test, indent = 4))"
   ]
  },
  {
   "cell_type": "code",
   "execution_count": 19,
   "metadata": {},
   "outputs": [
    {
     "ename": "RateLimitError",
     "evalue": "That model is currently overloaded with other requests. You can retry your request, or contact us through our help center at help.openai.com if the error persists. (Please include the request ID d2d748360d1d44d24d818dea54b35bbc in your message.)",
     "output_type": "error",
     "traceback": [
      "\u001b[0;31m---------------------------------------------------------------------------\u001b[0m",
      "\u001b[0;31mRateLimitError\u001b[0m                            Traceback (most recent call last)",
      "\u001b[1;32m/home/javier/distribution-nm/notebooks/01_text_processing.ipynb Cell 10\u001b[0m in \u001b[0;36m<cell line: 4>\u001b[0;34m()\u001b[0m\n\u001b[1;32m      <a href='vscode-notebook-cell:/home/javier/distribution-nm/notebooks/01_text_processing.ipynb#X12sZmlsZQ%3D%3D?line=8'>9</a>\u001b[0m seen\u001b[39m.\u001b[39mappend(pmcid)\n\u001b[1;32m     <a href='vscode-notebook-cell:/home/javier/distribution-nm/notebooks/01_text_processing.ipynb#X12sZmlsZQ%3D%3D?line=9'>10</a>\u001b[0m condition \u001b[39m=\u001b[39m df[\u001b[39m'\u001b[39m\u001b[39mpmcid\u001b[39m\u001b[39m'\u001b[39m] \u001b[39m==\u001b[39m pmcid\n\u001b[0;32m---> <a href='vscode-notebook-cell:/home/javier/distribution-nm/notebooks/01_text_processing.ipynb#X12sZmlsZQ%3D%3D?line=10'>11</a>\u001b[0m answer \u001b[39m=\u001b[39m question_answer(query, abstract, GPT_MODEL, \u001b[39m0\u001b[39;49m)[\u001b[39m'\u001b[39m\u001b[39mvalues\u001b[39m\u001b[39m'\u001b[39m]\n\u001b[1;32m     <a href='vscode-notebook-cell:/home/javier/distribution-nm/notebooks/01_text_processing.ipynb#X12sZmlsZQ%3D%3D?line=11'>12</a>\u001b[0m df\u001b[39m.\u001b[39mloc[condition, \u001b[39m'\u001b[39m\u001b[39mnm_llm\u001b[39m\u001b[39m'\u001b[39m] \u001b[39m=\u001b[39m answer[\u001b[39m'\u001b[39m\u001b[39massessed nanomaterial\u001b[39m\u001b[39m'\u001b[39m]\n\u001b[1;32m     <a href='vscode-notebook-cell:/home/javier/distribution-nm/notebooks/01_text_processing.ipynb#X12sZmlsZQ%3D%3D?line=12'>13</a>\u001b[0m df\u001b[39m.\u001b[39mloc[condition, \u001b[39m'\u001b[39m\u001b[39mcommercial_synthesized_llm\u001b[39m\u001b[39m'\u001b[39m] \u001b[39m=\u001b[39m answer[\u001b[39m'\u001b[39m\u001b[39mcommercial or synthesized\u001b[39m\u001b[39m'\u001b[39m]\n",
      "\u001b[1;32m/home/javier/distribution-nm/notebooks/01_text_processing.ipynb Cell 10\u001b[0m in \u001b[0;36mquestion_answer\u001b[0;34m(query, abstract, model, temperature)\u001b[0m\n\u001b[1;32m     <a href='vscode-notebook-cell:/home/javier/distribution-nm/notebooks/01_text_processing.ipynb#X12sZmlsZQ%3D%3D?line=20'>21</a>\u001b[0m \u001b[39mdef\u001b[39;00m \u001b[39mquestion_answer\u001b[39m(query, abstract, model, temperature):\n\u001b[1;32m     <a href='vscode-notebook-cell:/home/javier/distribution-nm/notebooks/01_text_processing.ipynb#X12sZmlsZQ%3D%3D?line=21'>22</a>\u001b[0m     query \u001b[39m=\u001b[39m query\u001b[39m.\u001b[39mformat(abstract)\n\u001b[0;32m---> <a href='vscode-notebook-cell:/home/javier/distribution-nm/notebooks/01_text_processing.ipynb#X12sZmlsZQ%3D%3D?line=22'>23</a>\u001b[0m     response \u001b[39m=\u001b[39m openai\u001b[39m.\u001b[39;49mChatCompletion\u001b[39m.\u001b[39;49mcreate(\n\u001b[1;32m     <a href='vscode-notebook-cell:/home/javier/distribution-nm/notebooks/01_text_processing.ipynb#X12sZmlsZQ%3D%3D?line=23'>24</a>\u001b[0m         messages\u001b[39m=\u001b[39;49m[\n\u001b[1;32m     <a href='vscode-notebook-cell:/home/javier/distribution-nm/notebooks/01_text_processing.ipynb#X12sZmlsZQ%3D%3D?line=24'>25</a>\u001b[0m         {\u001b[39m'\u001b[39;49m\u001b[39mrole\u001b[39;49m\u001b[39m'\u001b[39;49m: \u001b[39m'\u001b[39;49m\u001b[39msystem\u001b[39;49m\u001b[39m'\u001b[39;49m, \u001b[39m'\u001b[39;49m\u001b[39mcontent\u001b[39;49m\u001b[39m'\u001b[39;49m: \u001b[39m'\u001b[39;49m\u001b[39mYou answer questions about the abstract of a journal article.\u001b[39;49m\u001b[39m'\u001b[39;49m},\n\u001b[1;32m     <a href='vscode-notebook-cell:/home/javier/distribution-nm/notebooks/01_text_processing.ipynb#X12sZmlsZQ%3D%3D?line=25'>26</a>\u001b[0m         {\u001b[39m'\u001b[39;49m\u001b[39mrole\u001b[39;49m\u001b[39m'\u001b[39;49m: \u001b[39m'\u001b[39;49m\u001b[39muser\u001b[39;49m\u001b[39m'\u001b[39;49m, \u001b[39m'\u001b[39;49m\u001b[39mcontent\u001b[39;49m\u001b[39m'\u001b[39;49m: query},\n\u001b[1;32m     <a href='vscode-notebook-cell:/home/javier/distribution-nm/notebooks/01_text_processing.ipynb#X12sZmlsZQ%3D%3D?line=26'>27</a>\u001b[0m         ],\n\u001b[1;32m     <a href='vscode-notebook-cell:/home/javier/distribution-nm/notebooks/01_text_processing.ipynb#X12sZmlsZQ%3D%3D?line=27'>28</a>\u001b[0m         model\u001b[39m=\u001b[39;49mmodel,\n\u001b[1;32m     <a href='vscode-notebook-cell:/home/javier/distribution-nm/notebooks/01_text_processing.ipynb#X12sZmlsZQ%3D%3D?line=28'>29</a>\u001b[0m         temperature\u001b[39m=\u001b[39;49mtemperature,\n\u001b[1;32m     <a href='vscode-notebook-cell:/home/javier/distribution-nm/notebooks/01_text_processing.ipynb#X12sZmlsZQ%3D%3D?line=29'>30</a>\u001b[0m     )\n\u001b[1;32m     <a href='vscode-notebook-cell:/home/javier/distribution-nm/notebooks/01_text_processing.ipynb#X12sZmlsZQ%3D%3D?line=31'>32</a>\u001b[0m     response_text \u001b[39m=\u001b[39m response[\u001b[39m'\u001b[39m\u001b[39mchoices\u001b[39m\u001b[39m'\u001b[39m][\u001b[39m0\u001b[39m][\u001b[39m'\u001b[39m\u001b[39mmessage\u001b[39m\u001b[39m'\u001b[39m][\u001b[39m'\u001b[39m\u001b[39mcontent\u001b[39m\u001b[39m'\u001b[39m]\n\u001b[1;32m     <a href='vscode-notebook-cell:/home/javier/distribution-nm/notebooks/01_text_processing.ipynb#X12sZmlsZQ%3D%3D?line=32'>33</a>\u001b[0m     dictionary \u001b[39m=\u001b[39m {\u001b[39m'\u001b[39m\u001b[39mvalues\u001b[39m\u001b[39m'\u001b[39m:{}, \u001b[39m'\u001b[39m\u001b[39mresponse\u001b[39m\u001b[39m'\u001b[39m:\u001b[39m'\u001b[39m\u001b[39m'\u001b[39m,}\n",
      "File \u001b[0;32m~/miniconda3/lib/python3.9/site-packages/openai/api_resources/chat_completion.py:25\u001b[0m, in \u001b[0;36mChatCompletion.create\u001b[0;34m(cls, *args, **kwargs)\u001b[0m\n\u001b[1;32m     23\u001b[0m \u001b[39mwhile\u001b[39;00m \u001b[39mTrue\u001b[39;00m:\n\u001b[1;32m     24\u001b[0m     \u001b[39mtry\u001b[39;00m:\n\u001b[0;32m---> 25\u001b[0m         \u001b[39mreturn\u001b[39;00m \u001b[39msuper\u001b[39;49m()\u001b[39m.\u001b[39;49mcreate(\u001b[39m*\u001b[39;49margs, \u001b[39m*\u001b[39;49m\u001b[39m*\u001b[39;49mkwargs)\n\u001b[1;32m     26\u001b[0m     \u001b[39mexcept\u001b[39;00m TryAgain \u001b[39mas\u001b[39;00m e:\n\u001b[1;32m     27\u001b[0m         \u001b[39mif\u001b[39;00m timeout \u001b[39mis\u001b[39;00m \u001b[39mnot\u001b[39;00m \u001b[39mNone\u001b[39;00m \u001b[39mand\u001b[39;00m time\u001b[39m.\u001b[39mtime() \u001b[39m>\u001b[39m start \u001b[39m+\u001b[39m timeout:\n",
      "File \u001b[0;32m~/miniconda3/lib/python3.9/site-packages/openai/api_resources/abstract/engine_api_resource.py:153\u001b[0m, in \u001b[0;36mEngineAPIResource.create\u001b[0;34m(cls, api_key, api_base, api_type, request_id, api_version, organization, **params)\u001b[0m\n\u001b[1;32m    127\u001b[0m \u001b[39m@classmethod\u001b[39m\n\u001b[1;32m    128\u001b[0m \u001b[39mdef\u001b[39;00m \u001b[39mcreate\u001b[39m(\n\u001b[1;32m    129\u001b[0m     \u001b[39mcls\u001b[39m,\n\u001b[0;32m   (...)\u001b[0m\n\u001b[1;32m    136\u001b[0m     \u001b[39m*\u001b[39m\u001b[39m*\u001b[39mparams,\n\u001b[1;32m    137\u001b[0m ):\n\u001b[1;32m    138\u001b[0m     (\n\u001b[1;32m    139\u001b[0m         deployment_id,\n\u001b[1;32m    140\u001b[0m         engine,\n\u001b[0;32m   (...)\u001b[0m\n\u001b[1;32m    150\u001b[0m         api_key, api_base, api_type, api_version, organization, \u001b[39m*\u001b[39m\u001b[39m*\u001b[39mparams\n\u001b[1;32m    151\u001b[0m     )\n\u001b[0;32m--> 153\u001b[0m     response, _, api_key \u001b[39m=\u001b[39m requestor\u001b[39m.\u001b[39;49mrequest(\n\u001b[1;32m    154\u001b[0m         \u001b[39m\"\u001b[39;49m\u001b[39mpost\u001b[39;49m\u001b[39m\"\u001b[39;49m,\n\u001b[1;32m    155\u001b[0m         url,\n\u001b[1;32m    156\u001b[0m         params\u001b[39m=\u001b[39;49mparams,\n\u001b[1;32m    157\u001b[0m         headers\u001b[39m=\u001b[39;49mheaders,\n\u001b[1;32m    158\u001b[0m         stream\u001b[39m=\u001b[39;49mstream,\n\u001b[1;32m    159\u001b[0m         request_id\u001b[39m=\u001b[39;49mrequest_id,\n\u001b[1;32m    160\u001b[0m         request_timeout\u001b[39m=\u001b[39;49mrequest_timeout,\n\u001b[1;32m    161\u001b[0m     )\n\u001b[1;32m    163\u001b[0m     \u001b[39mif\u001b[39;00m stream:\n\u001b[1;32m    164\u001b[0m         \u001b[39m# must be an iterator\u001b[39;00m\n\u001b[1;32m    165\u001b[0m         \u001b[39massert\u001b[39;00m \u001b[39mnot\u001b[39;00m \u001b[39misinstance\u001b[39m(response, OpenAIResponse)\n",
      "File \u001b[0;32m~/miniconda3/lib/python3.9/site-packages/openai/api_requestor.py:230\u001b[0m, in \u001b[0;36mAPIRequestor.request\u001b[0;34m(self, method, url, params, headers, files, stream, request_id, request_timeout)\u001b[0m\n\u001b[1;32m    209\u001b[0m \u001b[39mdef\u001b[39;00m \u001b[39mrequest\u001b[39m(\n\u001b[1;32m    210\u001b[0m     \u001b[39mself\u001b[39m,\n\u001b[1;32m    211\u001b[0m     method,\n\u001b[0;32m   (...)\u001b[0m\n\u001b[1;32m    218\u001b[0m     request_timeout: Optional[Union[\u001b[39mfloat\u001b[39m, Tuple[\u001b[39mfloat\u001b[39m, \u001b[39mfloat\u001b[39m]]] \u001b[39m=\u001b[39m \u001b[39mNone\u001b[39;00m,\n\u001b[1;32m    219\u001b[0m ) \u001b[39m-\u001b[39m\u001b[39m>\u001b[39m Tuple[Union[OpenAIResponse, Iterator[OpenAIResponse]], \u001b[39mbool\u001b[39m, \u001b[39mstr\u001b[39m]:\n\u001b[1;32m    220\u001b[0m     result \u001b[39m=\u001b[39m \u001b[39mself\u001b[39m\u001b[39m.\u001b[39mrequest_raw(\n\u001b[1;32m    221\u001b[0m         method\u001b[39m.\u001b[39mlower(),\n\u001b[1;32m    222\u001b[0m         url,\n\u001b[0;32m   (...)\u001b[0m\n\u001b[1;32m    228\u001b[0m         request_timeout\u001b[39m=\u001b[39mrequest_timeout,\n\u001b[1;32m    229\u001b[0m     )\n\u001b[0;32m--> 230\u001b[0m     resp, got_stream \u001b[39m=\u001b[39m \u001b[39mself\u001b[39;49m\u001b[39m.\u001b[39;49m_interpret_response(result, stream)\n\u001b[1;32m    231\u001b[0m     \u001b[39mreturn\u001b[39;00m resp, got_stream, \u001b[39mself\u001b[39m\u001b[39m.\u001b[39mapi_key\n",
      "File \u001b[0;32m~/miniconda3/lib/python3.9/site-packages/openai/api_requestor.py:624\u001b[0m, in \u001b[0;36mAPIRequestor._interpret_response\u001b[0;34m(self, result, stream)\u001b[0m\n\u001b[1;32m    616\u001b[0m     \u001b[39mreturn\u001b[39;00m (\n\u001b[1;32m    617\u001b[0m         \u001b[39mself\u001b[39m\u001b[39m.\u001b[39m_interpret_response_line(\n\u001b[1;32m    618\u001b[0m             line, result\u001b[39m.\u001b[39mstatus_code, result\u001b[39m.\u001b[39mheaders, stream\u001b[39m=\u001b[39m\u001b[39mTrue\u001b[39;00m\n\u001b[1;32m    619\u001b[0m         )\n\u001b[1;32m    620\u001b[0m         \u001b[39mfor\u001b[39;00m line \u001b[39min\u001b[39;00m parse_stream(result\u001b[39m.\u001b[39miter_lines())\n\u001b[1;32m    621\u001b[0m     ), \u001b[39mTrue\u001b[39;00m\n\u001b[1;32m    622\u001b[0m \u001b[39melse\u001b[39;00m:\n\u001b[1;32m    623\u001b[0m     \u001b[39mreturn\u001b[39;00m (\n\u001b[0;32m--> 624\u001b[0m         \u001b[39mself\u001b[39;49m\u001b[39m.\u001b[39;49m_interpret_response_line(\n\u001b[1;32m    625\u001b[0m             result\u001b[39m.\u001b[39;49mcontent\u001b[39m.\u001b[39;49mdecode(\u001b[39m\"\u001b[39;49m\u001b[39mutf-8\u001b[39;49m\u001b[39m\"\u001b[39;49m),\n\u001b[1;32m    626\u001b[0m             result\u001b[39m.\u001b[39;49mstatus_code,\n\u001b[1;32m    627\u001b[0m             result\u001b[39m.\u001b[39;49mheaders,\n\u001b[1;32m    628\u001b[0m             stream\u001b[39m=\u001b[39;49m\u001b[39mFalse\u001b[39;49;00m,\n\u001b[1;32m    629\u001b[0m         ),\n\u001b[1;32m    630\u001b[0m         \u001b[39mFalse\u001b[39;00m,\n\u001b[1;32m    631\u001b[0m     )\n",
      "File \u001b[0;32m~/miniconda3/lib/python3.9/site-packages/openai/api_requestor.py:687\u001b[0m, in \u001b[0;36mAPIRequestor._interpret_response_line\u001b[0;34m(self, rbody, rcode, rheaders, stream)\u001b[0m\n\u001b[1;32m    685\u001b[0m stream_error \u001b[39m=\u001b[39m stream \u001b[39mand\u001b[39;00m \u001b[39m\"\u001b[39m\u001b[39merror\u001b[39m\u001b[39m\"\u001b[39m \u001b[39min\u001b[39;00m resp\u001b[39m.\u001b[39mdata\n\u001b[1;32m    686\u001b[0m \u001b[39mif\u001b[39;00m stream_error \u001b[39mor\u001b[39;00m \u001b[39mnot\u001b[39;00m \u001b[39m200\u001b[39m \u001b[39m<\u001b[39m\u001b[39m=\u001b[39m rcode \u001b[39m<\u001b[39m \u001b[39m300\u001b[39m:\n\u001b[0;32m--> 687\u001b[0m     \u001b[39mraise\u001b[39;00m \u001b[39mself\u001b[39m\u001b[39m.\u001b[39mhandle_error_response(\n\u001b[1;32m    688\u001b[0m         rbody, rcode, resp\u001b[39m.\u001b[39mdata, rheaders, stream_error\u001b[39m=\u001b[39mstream_error\n\u001b[1;32m    689\u001b[0m     )\n\u001b[1;32m    690\u001b[0m \u001b[39mreturn\u001b[39;00m resp\n",
      "\u001b[0;31mRateLimitError\u001b[0m: That model is currently overloaded with other requests. You can retry your request, or contact us through our help center at help.openai.com if the error persists. (Please include the request ID d2d748360d1d44d24d818dea54b35bbc in your message.)"
     ]
    }
   ],
   "source": [
    "seen = []\n",
    "count = 0\n",
    "total = len(set(df['abstract']))\n",
    "for index, row in df.iterrows():\n",
    "    if pd.notnull(row['abstract']):     \n",
    "        abstract = row['abstract']\n",
    "        pmcid = row['pmcid']\n",
    "        if pmcid not in seen:\n",
    "            seen.append(pmcid)\n",
    "            condition = df['pmcid'] == pmcid\n",
    "            answer = question_answer(query, abstract, GPT_MODEL, 0)['values']\n",
    "            df.loc[condition, 'nm_llm'] = answer['assessed nanomaterial']\n",
    "            df.loc[condition, 'commercial_synthesized_llm'] = answer['commercial or synthesized']\n",
    "            df.loc[condition, 'model_llm'] = answer['animal model used']\n",
    "            df.loc[condition, 'route_admin_llm'] = answer['route of administration of nanomaterial']\n",
    "            \n"
   ]
  },
  {
   "cell_type": "code",
   "execution_count": 32,
   "metadata": {},
   "outputs": [
    {
     "name": "stdout",
     "output_type": "stream",
     "text": [
      "NMs identified:\n",
      "\t-\n",
      "mesoporous silica nanoparticles (MSNs)\n",
      "\t-Hollow mesoporous silica nanoparticle (HMSN)\n",
      "\t-double-PEGylated biocompatible reduced graphene oxide nanosheets anchored with iron oxide nanoparticles (RGO-IONP-(1st)PEG-(2nd)PEG)\n",
      "\t-Au-IO hetero-nanostructures (Au-IONPs)\n",
      "\t-nano-graphene oxide (GO) sheets\n",
      "\t-Mesoporous silica nanoparticles (MSN)\n",
      "\t-graphene oxide (GO) nanoconjugates\n",
      "\t-biocompatible mesoporous silica (mSiO2) nanoparticles\n",
      "\t-nanographene\n",
      "\t-(64)Cu-doped AuNCs\n",
      "\t-gold nanoparticles (AuNPs)\n",
      "\t-nano-graphene oxide (GO) conjugated to a monoclonal antibody (mAb) against follicle-stimulating hormone receptor (FSHR)\n",
      "\t-Gold nanorods (AuNR)\n",
      "\t-Gold nanorod (GNR)-based nanoplatform\n",
      "\t-Gold nanoparticles doped with (199)Au atoms\n",
      "\t-Gold nanorods\n",
      "\t-Au-tripods\n",
      "\t-Polyethylene glycol (PEG)-coated gold nanoparticles (AuNPs)\n",
      "\t-multimodal silica nanoparticle\n",
      "\t-gold surface-enhanced Raman scattering (SERS) nanoparticles\n",
      "\t-Au nanostructures\n",
      "\t-PEGylated reduced graphene oxide - iron oxide nanoparticles\n",
      "\t-Gold nanocages\n",
      "\t-reduced graphene oxide (RGO) conjugated to anti-CD105 antibody TRC105\n",
      "\t-epidermal growth factor peptide-targeted gold nanoparticles (EGF<sub>pep</sub>-Au NPs)\n",
      "\t-nanoscale graphene oxide (NGO)\n",
      "\t-Spherical and rod-shaped gold nanoparticles with surface poly(ethylene glycol) (PEG) chains\n",
      "commercial/synthesized?\n",
      "\t-\n",
      "not specified\n",
      "\t-synthesized\n",
      "\t-Synthesized\n",
      "\t-Not specified\n",
      "animal model identified:\n",
      "\t-\n",
      "mice\n",
      "\t-murine models\n",
      "\t-mice and large-animal model of melanoma\n",
      "\t-4T1 murine breast cancer model\n",
      "\t-human tumor xenograft mouse model\n",
      "\t-murine EMT6 breast cancer model\n",
      "\t-Not specified\n",
      "\t-U87MG glioblastoma xenograft model\n",
      "\t-female nude mice\n",
      "\t-6-8-week-old female nu/nu mice bearing orthotopic ovarian tumors\n",
      "\t-not specified\n",
      "\t-mouse triple negative breast cancer (TNBC) model\n",
      "\t-4T1 murine breast tumor-bearing mice\n",
      "\t-U87MG tumor-bearing mice\n",
      "\t-nude mice bearing subcutaneous A431 squamous tumors\n",
      "\t-murine EMT-6 breast cancer model\n",
      "\t-murine model of hindlimb ischemia\n",
      "\t-Tumor-bearing mice\n",
      "\t-living mice\n",
      "How was the NM administered:\n",
      "\t-\n",
      "intravenously (IV) or intrarectally (IR)\n",
      "\t-Not specified\n",
      "\t-intravenous injection\n",
      "\t-IV injection\n",
      "\t-intravenous\n",
      "\t-not specified\n",
      "\t-femtomolar administrations\n",
      "\t-Intravenous injection\n"
     ]
    }
   ],
   "source": [
    "print(\"NMs identified:\\n\\t-\")\n",
    "print(\"\\n\\t-\".join(set(df['nm_llm'].dropna())))\n",
    "print(\"commercial/synthesized?\\n\\t-\")\n",
    "print(\"\\n\\t-\".join(set(df['commercial_synthesized_llm'].dropna())))\n",
    "print(\"animal model identified:\\n\\t-\")\n",
    "print(\"\\n\\t-\".join(set(df['model_llm'].dropna())))\n",
    "print(\"How was the NM administered:\\n\\t-\")\n",
    "print(\"\\n\\t-\".join(set(df['route_admin_llm'].dropna())))"
   ]
  },
  {
   "attachments": {},
   "cell_type": "markdown",
   "metadata": {},
   "source": [
    "Using the NM type as a benchmark for accuracy:"
   ]
  },
  {
   "cell_type": "code",
   "execution_count": 38,
   "metadata": {},
   "outputs": [
    {
     "name": "stdout",
     "output_type": "stream",
     "text": [
      "PMC4437573  |  Peptide Au NP 5nm  -----> epidermal growth factor peptide-targeted gold nanoparticles (EGF<sub>pep</sub>-Au NPs)\n",
      "PMC4180787  |  64Cu-doped AuNCs 2.5nm  -----> (64)Cu-doped AuNCs\n",
      "PMC3985880  |  Gold tripods <20nm  -----> Au-tripods\n",
      "PMC4358630  |  Gold nanospheres 56.8nm  -----> Au nanostructures\n",
      "PMC3404261  |  64Cu-DOTA-PEGAuNCs (55 nm)  -----> Gold nanocages\n",
      "PMC3211348  |  43 nm AuNP-PEG5000 (Kennedy et al. 2011)  -----> gold nanoparticles (AuNPs)\n",
      "PMC3379889  |  50nm Au PEG  -----> Spherical and rod-shaped gold nanoparticles with surface poly(ethylene glycol) (PEG) chains\n",
      "PMC3563754  |  64Cu-NOTA-Au-IONP-Affibody 24.4nm  -----> Au-IO hetero-nanostructures (Au-IONPs)\n",
      "PMC4151626  |  SERS nanoparticles Gold 120nm  -----> gold surface-enhanced Raman scattering (SERS) nanoparticles\n",
      "PMC2745599  |  20-nm AuNPs coated with PEG5000-TA  -----> Polyethylene glycol (PEG)-coated gold nanoparticles (AuNPs)\n",
      "PMC4836969  |   5 nm 199Au-AuNP-PEG  -----> Gold nanoparticles doped with (199)Au atoms\n",
      "PMC3492114  |  PEG-modified gold nanorods AP 5.0 10.6*49.6  -----> Gold nanorods\n",
      "PMC3425121  |  AuNR - DOX 45*10nm  -----> Gold nanorod (GNR)-based nanoplatform\n",
      "PMC5039679  |  GNR P1 2*10  -----> Gold nanorods (AuNR)\n",
      "PMC4258896  |  64Cu-GO-VEGF121 32nm  -----> graphene oxide (GO) nanoconjugates\n",
      "PMC3570619  |  64Cu–NOTA–RGO–TRC105  -----> reduced graphene oxide (RGO) conjugated to anti-CD105 antibody TRC105\n",
      "PMC3313015  |  66Ga-NOTA-GO-TRC105 27nm  -----> nano-graphene oxide (GO) sheets\n",
      "PMC3314116  |  64Cu-NOTA-GO-TRC105 27nm  -----> nanographene\n",
      "PMC4207078  |  125I-NGO  -----> nanoscale graphene oxide (NGO)\n",
      "PMC4919229  |   64Cu-NOTA–RGO–IONP–1stPEG 63nm  -----> double-PEGylated biocompatible reduced graphene oxide nanosheets anchored with iron oxide nanoparticles (RGO-IONP-(1st)PEG-(2nd)PEG)\n",
      "PMC5644339  |  64Cu-NOTA-GO-FSHR-mAb  -----> nano-graphene oxide (GO) conjugated to a monoclonal antibody (mAb) against follicle-stimulating hormone receptor (FSHR)\n",
      "PMC4902717  |  64Cu-RGO-IONP-PEG 68nm  -----> PEGylated reduced graphene oxide - iron oxide nanoparticles\n",
      "PMC4262629  |  64Cu-NOTA-MSN-PEG-VEGF121  -----> mesoporous silica nanoparticles (MSNs)\n",
      "PMC4218929  |  r 64Cu-MSN-800CW-TRC105(Fab). 80nm  -----> Mesoporous silica nanoparticles (MSN)\n",
      "PMC4038837  |  4Cu-HMSN-ZW800-TRC105 150nm  -----> Hollow mesoporous silica nanoparticle (HMSN)\n",
      "PMC3834886  |  64Cu-NOTA-mSiO2-PEG-TRC105 - 80nm  -----> biocompatible mesoporous silica (mSiO2) nanoparticles\n",
      "PMC3223837  |  124I-cRGDY-PEG-dots 7nm  -----> multimodal silica nanoparticle\n",
      "PMC6734012  |  Gold dextran  -----> nan\n",
      "PMC4430331  |  64Cu-NOTA-HMSN-PEG  -----> nan\n",
      "PMC5102673  |  89Zr-bMSN‐PEG5k‐TRC105 190nm  -----> nan\n",
      "PMC4550540  |  89Zr-MSN 150nm  -----> nan\n",
      "PMC6832743  |  64Cu-NOTA-bMSN(CpG/Ce6)-Adpgk 87nm  -----> nan\n",
      "PMC3086380  |  64Cu-DO3A conjugated dextran SiMn QD 15.1nm  -----> nan\n",
      "PMC3625170  |  SNPs  -----> nan\n",
      "PMC8265214  |  86Y-DOTA-UPSN  -----> nan\n",
      "PMC5675572  |  89Zr-DFO-cRGDY-PEG-C  -----> nan\n",
      "PMC6854296  |  64Cu-NOTA-UPSN  -----> nan\n",
      "PMC3545363  |  nan  -----> nan\n",
      "PMC5197067  |  64Cu-labeled liposomes +ve 195nm  -----> nan\n",
      "PMC3512544  |  111In-labeledlow RLP 92.1nm -1.8mV - 6.1mV  -----> nan\n",
      "PMC3086097  |  64Cu-SLNs.  -----> nan\n",
      "PMC3292876  |  10 nm SIONPs   -----> nan\n",
      "PMC5338531  |  9Fe-labeled ZES-SPIONs 2.5nm  -----> nan\n",
      "PMC3237748  |  SPIO 15.52nm  -----> nan\n",
      "PMC6593133  |  99mTc-encapsulated MIONPs  -----> nan\n",
      "PMC6462163  |  DOTA–BN–TMC–MNPs 69.2nm  -----> nan\n",
      "PMC2745816  |  Nanolatex 20  -----> nan\n",
      "PMC4747947  |  111In polymeric micelles 194nm  -----> nan\n",
      "PMC7200226  |  99mTc-HA-CHEMS-Cur-TPGS 144nm , -20mV  -----> nan\n",
      "PMC3110559  |  111In-labeled TNYL-RAW-CCPM  -----> nan\n",
      "PMC3586287  |  89Zr-DNP 13nm(core)  -----> nan\n",
      "PMC5363536  |  99mTc-labeled NPs  -----> nan\n",
      "PMC5096390  |  64Cu-comb  -----> nan\n",
      "PMC5516902  |  111In-TNP targetted 100nm  -----> nan\n",
      "PMC3943844  |  novel PEGylated and heparinized magnetic iron oxide nano-platform (DNPH3) 162nm  -----> nan\n"
     ]
    }
   ],
   "source": [
    "seen = []\n",
    "count = 0\n",
    "total = len(set(df['abstract']))\n",
    "for index, row in df.iterrows():\n",
    "    if pd.notnull(row['abstract']):     \n",
    "        abstract = row['abstract']\n",
    "        pmcid = row['pmcid']\n",
    "        if pmcid not in seen:\n",
    "            seen.append(pmcid)\n",
    "            print(str(row['pmcid']) , ' | ' , str(row['Name']) ,\" -----> \" + str(row['nm_llm']))"
   ]
  }
 ],
 "metadata": {
  "kernelspec": {
   "display_name": "base",
   "language": "python",
   "name": "python3"
  },
  "language_info": {
   "codemirror_mode": {
    "name": "ipython",
    "version": 3
   },
   "file_extension": ".py",
   "mimetype": "text/x-python",
   "name": "python",
   "nbconvert_exporter": "python",
   "pygments_lexer": "ipython3",
   "version": "3.9.13"
  },
  "orig_nbformat": 4
 },
 "nbformat": 4,
 "nbformat_minor": 2
}
