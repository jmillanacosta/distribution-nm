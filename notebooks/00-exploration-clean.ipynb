{
 "cells": [
  {
   "cell_type": "code",
   "execution_count": 1,
   "metadata": {},
   "outputs": [],
   "source": [
    "from scripts.excel_imports import append_sheets_with_organ_column\n",
    "import csv"
   ]
  },
  {
   "attachments": {},
   "cell_type": "markdown",
   "metadata": {},
   "source": [
    "# Exploration\n",
    "\n",
    "This notebook explores the content of the supplementary materials to [Nanoparticle biodistribution coefficients: A quantitative approach for understanding the tissue distribution of nanoparticles](https://doi.org/10.1016/j.addr.2023.114708).\n",
    "\n",
    "\n",
    "## Downloading the data\n",
    "\n",
    "The data is available as a supplementary material from the article text: https://ars.els-cdn.com/content/image/1-s2.0-S0169409X23000236-mmc1.xlsx"
   ]
  },
  {
   "cell_type": "code",
   "execution_count": 2,
   "metadata": {},
   "outputs": [
    {
     "name": "stdout",
     "output_type": "stream",
     "text": [
      "Data (../data/perc_id_g_organ.xlsx) already exists\n"
     ]
    }
   ],
   "source": [
    "%%bash\n",
    "\n",
    "if [ ! -f \"../data/perc_id_g_organ.xlsx\" ]; then\n",
    "  curl https://ars.els-cdn.com/content/image/1-s2.0-S0169409X23000236-mmc1.xlsx --output ../data/perc_id_g_organ.xlsx\n",
    "    echo \"xlsx data successfully downloaded and saved to ../data/perc_id_g_organ.xlsx.\"\n",
    "    else\n",
    "        echo \"Data (../data/perc_id_g_organ.xlsx) already exists\"\n",
    "fi\n"
   ]
  },
  {
   "cell_type": "code",
   "execution_count": 3,
   "metadata": {},
   "outputs": [
    {
     "name": "stdout",
     "output_type": "stream",
     "text": [
      "Column 'ID': 0 NaN values; datatype: int64\n",
      "Column 'Time_h': 0 NaN values; datatype: float64\n",
      "Column 'perc_ID_g': 17 NaN values; datatype: float64\n",
      "Column 'Species': 0 NaN values; datatype: object\n",
      "Column 'Age/weight': 994 NaN values; datatype: float64\n",
      "Column 'Strain': 0 NaN values; datatype: object\n",
      "Column 'Organ': 0 NaN values; datatype: object\n",
      "Column 'Size_nm': 12 NaN values; datatype: float64\n",
      "Column 'Analysis method': 0 NaN values; datatype: object\n",
      "Column 'NP_Type': 0 NaN values; datatype: object\n",
      "Column 'NP_Shape': 0 NaN values; datatype: object\n",
      "Column 'Ligand': 360 NaN values; datatype: object\n",
      "Column 'Charge': 2576 NaN values; datatype: object\n",
      "Column 'PEG cover': 56 NaN values; datatype: object\n",
      "Column 'PMID': 0 NaN values; datatype: object\n",
      "Column 'Name': 3720 NaN values; datatype: object\n",
      "Column 'Charge ': 5651 NaN values; datatype: object\n",
      "Number of rows with at least one NaN value: 5703/5703\n",
      "Organs: Brain, Skin, Muscle, Blood, Lung, Bone, Plasma, Intestine, Kidney, Pancreas, Tumor, Heart, Spleen, Stomach, Tail, Liver\n"
     ]
    }
   ],
   "source": [
    "file_path = '../data/perc_id_g_organ.xlsx'\n",
    "df = append_sheets_with_organ_column(file_path)\n"
   ]
  },
  {
   "attachments": {},
   "cell_type": "markdown",
   "metadata": {},
   "source": [
    "Retrieving the list of terms to map:"
   ]
  },
  {
   "cell_type": "code",
   "execution_count": 6,
   "metadata": {},
   "outputs": [
    {
     "name": "stdout",
     "output_type": "stream",
     "text": [
      "Total terms to map: 428\n"
     ]
    }
   ],
   "source": [
    "\n",
    "columns_to_exclude = ['index', 'perc_ID_g', 'ID', 'Time_h', 'Age/weight', 'Size_nm', 'PMID']\n",
    "\n",
    "file_path = \"../data/mappings.csv\"\n",
    "column_names = ['column', 'term', 'mapping']\n",
    "\n",
    "with open(file_path, \"w\", newline='') as file:\n",
    "    writer = csv.writer(file)\n",
    "    writer.writerow(column_names)\n",
    "    for column in df.columns:\n",
    "        writer.writerow([\"\", column, \"\"])\n",
    "    total = len(list(df.columns))\n",
    "    for column in df.columns:\n",
    "        if column not in columns_to_exclude:\n",
    "            unique_terms = df[column].unique()\n",
    "            for term in unique_terms:\n",
    "                total +=1\n",
    "                writer.writerow([column, term, \"\"])\n",
    "print(f\"Total terms to map: {total}\")"
   ]
  },
  {
   "attachments": {},
   "cell_type": "markdown",
   "metadata": {},
   "source": [
    "[Next notebook](01-mappings.ipynb) uses the mappings (filled out manually to file [mappings_filled.csv](../data/mappings_filled.csv)) to continue with the analyses"
   ]
  }
 ],
 "metadata": {
  "kernelspec": {
   "display_name": "base",
   "language": "python",
   "name": "python3"
  },
  "language_info": {
   "codemirror_mode": {
    "name": "ipython",
    "version": 3
   },
   "file_extension": ".py",
   "mimetype": "text/x-python",
   "name": "python",
   "nbconvert_exporter": "python",
   "pygments_lexer": "ipython3",
   "version": "3.9.13"
  },
  "orig_nbformat": 4
 },
 "nbformat": 4,
 "nbformat_minor": 2
}
